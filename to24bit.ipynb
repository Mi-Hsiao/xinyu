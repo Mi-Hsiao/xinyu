{
 "cells": [
  {
   "cell_type": "code",
   "execution_count": 32,
   "id": "c11c051f",
   "metadata": {},
   "outputs": [],
   "source": [
    "import cv2\n",
    "import os\n"
   ]
  },
  {
   "cell_type": "code",
   "execution_count": 33,
   "id": "3b124aed",
   "metadata": {},
   "outputs": [],
   "source": [
    "\n",
    "def convert_32bit_to_24bit(input_folder, output_folder):\n",
    "    if not os.path.exists(output_folder):\n",
    "        os.makedirs(output_folder)\n",
    "\n",
    "    for root, dirs, files in os.walk(input_folder):\n",
    "        for file in files:\n",
    "            if file.endswith(\".png\") or file.endswith(\".jpg\"):  # Add more extensions if needed\n",
    "                input_path = os.path.join(root, file)\n",
    "                output_path = os.path.join(output_folder, file)\n",
    "\n",
    "                # Read the image\n",
    "                img = cv2.imread(input_path, cv2.IMREAD_UNCHANGED)\n",
    "               \n",
    "                if img is None:\n",
    "                  print(f\"Error reading image at path: {input_path}\")\n",
    "                  continue\n",
    "                # Convert to 24-bit (3 channels)\n",
    "                img_24bit = img[:, :, :3]\n",
    "\n",
    "                # Save the converted image\n",
    "                cv2.imwrite(output_path, img_24bit)\n"
   ]
  },
  {
   "cell_type": "code",
   "execution_count": 43,
   "id": "53459abb",
   "metadata": {},
   "outputs": [],
   "source": [
    "# set file path\n",
    "# input_folder = 'D:/UCL_SGDS/Dissertation/classified/20200409/road'\n",
    "input_folder = 'E:/classified/20190311/water'\n",
    "# input_folder = 'E:/G/20230409/farmland'\n",
    "\n",
    "# output_folder = 'D:/UCL_SGDS/Dissertation/classified/to24/20200409/road'\n",
    "\n",
    "output_folder = 'E:/classified/to24/20190311/water'\n"
   ]
  },
  {
   "cell_type": "code",
   "execution_count": 44,
   "id": "dbb6bed4",
   "metadata": {},
   "outputs": [],
   "source": [
    "convert_32bit_to_24bit(input_folder, output_folder)"
   ]
  }
 ],
 "metadata": {
  "kernelspec": {
   "display_name": "Python 3 (Spyder)",
   "language": "python3",
   "name": "python3"
  },
  "language_info": {
   "codemirror_mode": {
    "name": "ipython",
    "version": 3
   },
   "file_extension": ".py",
   "mimetype": "text/x-python",
   "name": "python",
   "nbconvert_exporter": "python",
   "pygments_lexer": "ipython3",
   "version": "3.9.16"
  }
 },
 "nbformat": 4,
 "nbformat_minor": 5
}
