{
 "cells": [
  {
   "cell_type": "code",
   "execution_count": 2,
   "id": "1c495b1c",
   "metadata": {},
   "outputs": [],
   "source": [
    "import os\n",
    "from PIL import Image"
   ]
  },
  {
   "cell_type": "code",
   "execution_count": 7,
   "id": "a27f0b8f",
   "metadata": {},
   "outputs": [],
   "source": [
    "# input folder\n",
    "image_folder = 'D:/UCL_SGDS/Dissertation/data/jpg/20210325'\n",
    "# output folder\n",
    "output_folder = 'D:/UCL_SGDS/Dissertation/cropped/unclassified/210325'\n",
    "\n",
    "# make sure there is such a folder\n",
    "os.makedirs(output_folder, exist_ok=True)\n",
    "\n",
    "# loop\n",
    "for filename in os.listdir(image_folder):\n",
    "    if filename.endswith('.jpg'):\n",
    "        # open\n",
    "        img = Image.open(os.path.join(image_folder, filename))\n",
    "        width, height = img.size\n",
    "\n",
    "        # 裁cop\n",
    "        for i in range(0, width, 64):\n",
    "            for j in range(0, height, 64):\n",
    "                box = (i, j, i+64, j+64)\n",
    "                cropped_img = img.crop(box)\n",
    "                \n",
    "                # save image\n",
    "                cropped_img.save(os.path.join(output_folder, f'cropped_{filename}_{i}_{j}.jpg'))"
   ]
  }
 ],
 "metadata": {
  "kernelspec": {
   "display_name": "Python 3 (Spyder)",
   "language": "python3",
   "name": "python3"
  },
  "language_info": {
   "codemirror_mode": {
    "name": "ipython",
    "version": 3
   },
   "file_extension": ".py",
   "mimetype": "text/x-python",
   "name": "python",
   "nbconvert_exporter": "python",
   "pygments_lexer": "ipython3",
   "version": "3.9.16"
  }
 },
 "nbformat": 4,
 "nbformat_minor": 5
}
